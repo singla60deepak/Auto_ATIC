{
 "cells": [
  {
   "cell_type": "markdown",
   "id": "15d07221-0920-4e98-a7e8-a5f0f2eddef5",
   "metadata": {},
   "source": [
    "## Importing Libraries"
   ]
  },
  {
   "cell_type": "code",
   "execution_count": 20,
   "id": "dff17869-4941-4f0f-824a-f3a0cc69f343",
   "metadata": {},
   "outputs": [
    {
     "data": {
      "text/plain": [
       "'/home/jupyter/NLP_Track/Deepak/Git'"
      ]
     },
     "execution_count": 20,
     "metadata": {},
     "output_type": "execute_result"
    }
   ],
   "source": [
    "import pandas as pd\n",
    "import numpy as np\n",
    "import torch\n",
    "import random\n",
    "from numpy import array\n",
    "from numpy import argmax\n",
    "\n",
    "import tensorflow as tf\n",
    "from tensorflow import keras\n",
    "from tensorflow.keras.models import load_model\n",
    "\n",
    "from transformers import BertTokenizer, TFBertForSequenceClassification\n",
    "\n",
    "import utils\n",
    "import config\n",
    "\n",
    "def set_seed(seed_value=42):\n",
    "    \"\"\"Set seed for reproducibility.\n",
    "    \"\"\"\n",
    "    random.seed(seed_value)\n",
    "    np.random.seed(seed_value)\n",
    "    torch.manual_seed(seed_value)\n",
    "    torch.cuda.manual_seed_all(seed_value)\n",
    "    \n",
    "set_seed(42)    #Set seed for reproducibility\n",
    "\n",
    "import os\n",
    "os.getcwd()"
   ]
  },
  {
   "cell_type": "markdown",
   "id": "1957fcc5-483b-40c7-af46-179cb5f7e112",
   "metadata": {},
   "source": [
    "## Configure"
   ]
  },
  {
   "cell_type": "code",
   "execution_count": 21,
   "id": "94b0e3b8-4646-4e09-a95d-00bd974292b7",
   "metadata": {},
   "outputs": [],
   "source": [
    "input_path=config.input_path\n",
    "target=config.target\n",
    "feature=config.feature\n",
    "num_labels=config.num_labels\n",
    "learning_rate=config.learning_rate\n",
    "epochs=config.epochs\n",
    "batch_size=config.batch_size\n",
    "loss=config.loss\n",
    "metric=config.metric\n",
    "model_name=config.model_name\n",
    "file_for_pred_input_path=config.file_for_pred_input_path\n",
    "final_classification_report_output=config.final_classification_report_output"
   ]
  },
  {
   "cell_type": "markdown",
   "id": "96c56ee6-ae24-4a5a-9912-28b346fc3874",
   "metadata": {},
   "source": [
    "# Run Pipeline"
   ]
  },
  {
   "cell_type": "markdown",
   "id": "9295c78f-adbc-4f44-875e-5f0b26675bbe",
   "metadata": {},
   "source": [
    "### Training Bert Model with augm_text_default_bn_gpt_neo"
   ]
  },
  {
   "cell_type": "code",
   "execution_count": 13,
   "id": "4def18fa-e470-4764-93f1-bed6def79dfe",
   "metadata": {},
   "outputs": [],
   "source": [
    "aug_column_val=\"augm_text_default_bn_gpt_neo\"\n",
    "path='/home/jupyter/NLP_Track/Deepak/Git/Files/nlp_task_bert_model_aug_text_default_bn_gpt_neo'"
   ]
  },
  {
   "cell_type": "code",
   "execution_count": 6,
   "id": "53acb298-27ab-4114-a612-fb3ec86ae75b",
   "metadata": {
    "collapsed": true,
    "jupyter": {
     "outputs_hidden": true
    },
    "tags": []
   },
   "outputs": [
    {
     "name": "stdout",
     "output_type": "stream",
     "text": [
      "(3059,)\n",
      "(765,)\n",
      "(3059, 2)\n",
      "(765, 2)\n"
     ]
    },
    {
     "name": "stderr",
     "output_type": "stream",
     "text": [
      "2024-07-21 07:56:37.710348: I tensorflow/core/platform/cpu_feature_guard.cc:142] This TensorFlow binary is optimized with oneAPI Deep Neural Network Library (oneDNN) to use the following CPU instructions in performance-critical operations:  AVX2 FMA\n",
      "To enable them in other operations, rebuild TensorFlow with the appropriate compiler flags.\n",
      "2024-07-21 07:56:38.276004: I tensorflow/core/common_runtime/gpu/gpu_device.cc:1510] Created device /job:localhost/replica:0/task:0/device:GPU:0 with 14651 MB memory:  -> device: 0, name: Tesla T4, pci bus id: 0001:00:00.0, compute capability: 7.5\n",
      "All model checkpoint layers were used when initializing TFBertForSequenceClassification.\n",
      "\n",
      "Some layers of TFBertForSequenceClassification were not initialized from the model checkpoint at bert-base-cased and are newly initialized: ['classifier']\n",
      "You should probably TRAIN this model on a down-stream task to be able to use it for predictions and inference.\n"
     ]
    },
    {
     "name": "stdout",
     "output_type": "stream",
     "text": [
      "Epoch 1/3\n"
     ]
    },
    {
     "name": "stderr",
     "output_type": "stream",
     "text": [
      "2024-07-21 07:57:17.399723: I tensorflow/compiler/mlir/mlir_graph_optimization_pass.cc:185] None of the MLIR Optimization Passes are enabled (registered 2)\n"
     ]
    },
    {
     "name": "stdout",
     "output_type": "stream",
     "text": [
      "192/192 [==============================] - 189s 909ms/step - loss: 0.8802 - accuracy: 0.9186 - val_loss: 0.2894 - val_accuracy: 0.9386\n",
      "Epoch 2/3\n",
      "192/192 [==============================] - 176s 916ms/step - loss: 0.1207 - accuracy: 0.9866 - val_loss: 0.0785 - val_accuracy: 0.9895\n",
      "Epoch 3/3\n",
      "192/192 [==============================] - 175s 913ms/step - loss: 0.0900 - accuracy: 0.9918 - val_loss: 0.0859 - val_accuracy: 0.9908\n",
      "Model: \"tf_bert_for_sequence_classification\"\n",
      "_________________________________________________________________\n",
      "Layer (type)                 Output Shape              Param #   \n",
      "=================================================================\n",
      "bert (TFBertMainLayer)       multiple                  108310272 \n",
      "_________________________________________________________________\n",
      "dropout_37 (Dropout)         multiple                  0         \n",
      "_________________________________________________________________\n",
      "classifier (Dense)           multiple                  1538      \n",
      "=================================================================\n",
      "Total params: 108,311,810\n",
      "Trainable params: 108,311,810\n",
      "Non-trainable params: 0\n",
      "_________________________________________________________________\n",
      "None\n"
     ]
    },
    {
     "name": "stderr",
     "output_type": "stream",
     "text": [
      "2024-07-21 08:06:20.157249: W tensorflow/python/util/util.cc:348] Sets are not currently considered sequences, but this may change in the future, so consider avoiding using them.\n",
      "WARNING:absl:Found untraced functions such as embeddings_layer_call_and_return_conditional_losses, embeddings_layer_call_fn, encoder_layer_call_and_return_conditional_losses, encoder_layer_call_fn, pooler_layer_call_and_return_conditional_losses while saving (showing 5 of 1050). These functions will not be directly callable after loading.\n"
     ]
    },
    {
     "name": "stdout",
     "output_type": "stream",
     "text": [
      "INFO:tensorflow:Assets written to: /home/jupyter/NLP_Track/Deepak/Git/Files/nlp_task_bert_model_aug_text_default_bn_gpt_neo/assets\n"
     ]
    },
    {
     "name": "stderr",
     "output_type": "stream",
     "text": [
      "INFO:tensorflow:Assets written to: /home/jupyter/NLP_Track/Deepak/Git/Files/nlp_task_bert_model_aug_text_default_bn_gpt_neo/assets\n"
     ]
    },
    {
     "name": "stdout",
     "output_type": "stream",
     "text": [
      "Training of bert model is done\n",
      "Train classification report\n",
      "              precision    recall  f1-score   support\n",
      "\n",
      "           0       0.99      1.00      1.00      2435\n",
      "           1       0.99      0.98      0.99       624\n",
      "\n",
      "    accuracy                           0.99      3059\n",
      "   macro avg       0.99      0.99      0.99      3059\n",
      "weighted avg       0.99      0.99      0.99      3059\n",
      "\n",
      "Val classification report\n",
      "              precision    recall  f1-score   support\n",
      "\n",
      "           0       1.00      0.99      0.99       609\n",
      "           1       0.97      0.98      0.98       156\n",
      "\n",
      "    accuracy                           0.99       765\n",
      "   macro avg       0.98      0.99      0.99       765\n",
      "weighted avg       0.99      0.99      0.99       765\n",
      "\n"
     ]
    }
   ],
   "source": [
    "utils.pipeline_run(input_path,aug_column_val,target, feature, num_labels,learning_rate,epochs,batch_size,loss,metric,model_name,path)"
   ]
  },
  {
   "cell_type": "markdown",
   "id": "2d185296-ed6d-43bb-8e98-79588b033860",
   "metadata": {},
   "source": [
    "### Inferencing using Bert Model with augm_text_default_bn_gpt_neo"
   ]
  },
  {
   "cell_type": "code",
   "execution_count": 14,
   "id": "6e35cb1e-fbf8-4e00-9e65-0e12051a699d",
   "metadata": {},
   "outputs": [],
   "source": [
    "savedModel=load_model(path)"
   ]
  },
  {
   "cell_type": "code",
   "execution_count": 15,
   "id": "3a5be1fb-2bcc-4c0d-864b-b78510a20c43",
   "metadata": {},
   "outputs": [],
   "source": [
    "X_train_tokens_new, Y_train_one_hot_encoded, X_test_tokens_new, Y_test_one_hot_encoded = utils.data_prep_inference_pipeline(file_for_pred_input_path,feature,target,model_name)\n"
   ]
  },
  {
   "cell_type": "code",
   "execution_count": 16,
   "id": "8e7f2c16-7f71-4225-a31b-c5f6d32c6da0",
   "metadata": {},
   "outputs": [
    {
     "name": "stdout",
     "output_type": "stream",
     "text": [
      "              precision    recall  f1-score   support\n",
      "\n",
      "           0       1.00      1.00      1.00      3044\n",
      "           1       0.98      0.98      0.98       419\n",
      "\n",
      "    accuracy                           0.99      3463\n",
      "   macro avg       0.99      0.99      0.99      3463\n",
      "weighted avg       0.99      0.99      0.99      3463\n",
      "\n",
      "Balanced Accuracy:  0.9877818251954626\n",
      "F2 score:  [0.99704336 0.97852029]\n"
     ]
    }
   ],
   "source": [
    "report=utils.class_report(X_tokens=X_train_tokens_new,savedModel=savedModel, y=Y_train_one_hot_encoded)\n",
    "print(report)"
   ]
  },
  {
   "cell_type": "code",
   "execution_count": 23,
   "id": "abc8d046-ab3f-49f2-94d2-f7ad6918731f",
   "metadata": {},
   "outputs": [],
   "source": [
    "with open(final_classification_report_output, 'w') as f:\n",
    "    f.write(\"\\n------ Classification report of Training Data using augm_text_default_bn_gpt_neo ------\\n\")\n",
    "    f.write(report)"
   ]
  },
  {
   "cell_type": "code",
   "execution_count": 24,
   "id": "dff71ae6-97e4-4353-909e-cc3c146410c8",
   "metadata": {},
   "outputs": [
    {
     "name": "stdout",
     "output_type": "stream",
     "text": [
      "              precision    recall  f1-score   support\n",
      "\n",
      "           0       0.99      1.00      0.99      1472\n",
      "           1       0.97      0.96      0.96       234\n",
      "\n",
      "    accuracy                           0.99      1706\n",
      "   macro avg       0.98      0.98      0.98      1706\n",
      "weighted avg       0.99      0.99      0.99      1706\n",
      "\n",
      "Balanced Accuracy:  0.9762547612411743\n",
      "F2 score:  [0.99483906 0.95972579]\n"
     ]
    }
   ],
   "source": [
    "report=utils.class_report(X_tokens=X_test_tokens_new,savedModel=savedModel, y=Y_test_one_hot_encoded)\n",
    "print(report)"
   ]
  },
  {
   "cell_type": "code",
   "execution_count": 25,
   "id": "4eab5a5f-938e-4bc7-9c6a-1377abab5f21",
   "metadata": {},
   "outputs": [],
   "source": [
    "with open(final_classification_report_output, 'a') as f:\n",
    "    f.write(\"\\n------ Classification report of Test Data using augm_text_default_bn_gpt_neo ------\\n\")\n",
    "    f.write(str(report))"
   ]
  },
  {
   "cell_type": "markdown",
   "id": "f015e2c4-0fa6-4c8a-beed-8847199f2b6b",
   "metadata": {},
   "source": [
    "### Training Bert Model with augm_text_default_mn_gpt_neo"
   ]
  },
  {
   "cell_type": "code",
   "execution_count": 26,
   "id": "7d0bd1dc-8251-4ecc-bb47-48a757f4703a",
   "metadata": {},
   "outputs": [],
   "source": [
    "aug_column_val=\"augm_text_default_mn_gpt_neo\"\n",
    "path='/home/jupyter/NLP_Track/Deepak/Git/Files/nlp_task_bert_model_aug_text_default_mn_gpt_neo'"
   ]
  },
  {
   "cell_type": "code",
   "execution_count": 11,
   "id": "1636ead0-90e2-4617-bde8-66f6aafd4b54",
   "metadata": {
    "collapsed": true,
    "jupyter": {
     "outputs_hidden": true
    },
    "tags": []
   },
   "outputs": [
    {
     "name": "stdout",
     "output_type": "stream",
     "text": [
      "(3059,)\n",
      "(765,)\n",
      "(3059, 2)\n",
      "(765, 2)\n"
     ]
    },
    {
     "name": "stderr",
     "output_type": "stream",
     "text": [
      "All model checkpoint layers were used when initializing TFBertForSequenceClassification.\n",
      "\n",
      "Some layers of TFBertForSequenceClassification were not initialized from the model checkpoint at bert-base-cased and are newly initialized: ['classifier']\n",
      "You should probably TRAIN this model on a down-stream task to be able to use it for predictions and inference.\n"
     ]
    },
    {
     "name": "stdout",
     "output_type": "stream",
     "text": [
      "Epoch 1/3\n",
      "192/192 [==============================] - 191s 928ms/step - loss: 0.3336 - accuracy: 0.9546 - val_loss: 0.1089 - val_accuracy: 0.9843\n",
      "Epoch 2/3\n",
      "192/192 [==============================] - 176s 919ms/step - loss: 0.0956 - accuracy: 0.9853 - val_loss: 0.1029 - val_accuracy: 0.9830\n",
      "Epoch 3/3\n",
      "192/192 [==============================] - 176s 917ms/step - loss: 0.0680 - accuracy: 0.9931 - val_loss: 0.0992 - val_accuracy: 0.9869\n",
      "Model: \"tf_bert_for_sequence_classification_1\"\n",
      "_________________________________________________________________\n",
      "Layer (type)                 Output Shape              Param #   \n",
      "=================================================================\n",
      "bert (TFBertMainLayer)       multiple                  108310272 \n",
      "_________________________________________________________________\n",
      "dropout_75 (Dropout)         multiple                  0         \n",
      "_________________________________________________________________\n",
      "classifier (Dense)           multiple                  1538      \n",
      "=================================================================\n",
      "Total params: 108,311,810\n",
      "Trainable params: 108,311,810\n",
      "Non-trainable params: 0\n",
      "_________________________________________________________________\n",
      "None\n"
     ]
    },
    {
     "name": "stderr",
     "output_type": "stream",
     "text": [
      "WARNING:absl:Found untraced functions such as embeddings_layer_call_and_return_conditional_losses, embeddings_layer_call_fn, encoder_layer_call_and_return_conditional_losses, encoder_layer_call_fn, pooler_layer_call_and_return_conditional_losses while saving (showing 5 of 1050). These functions will not be directly callable after loading.\n"
     ]
    },
    {
     "name": "stdout",
     "output_type": "stream",
     "text": [
      "INFO:tensorflow:Assets written to: /home/jupyter/NLP_Track/Deepak/Git/Files/nlp_task_bert_model_aug_text_default_mn_gpt_neo/assets\n"
     ]
    },
    {
     "name": "stderr",
     "output_type": "stream",
     "text": [
      "INFO:tensorflow:Assets written to: /home/jupyter/NLP_Track/Deepak/Git/Files/nlp_task_bert_model_aug_text_default_mn_gpt_neo/assets\n"
     ]
    },
    {
     "name": "stdout",
     "output_type": "stream",
     "text": [
      "Training of bert model is done\n",
      "Train classification report\n",
      "              precision    recall  f1-score   support\n",
      "\n",
      "           0       1.00      1.00      1.00      2435\n",
      "           1       1.00      0.98      0.99       624\n",
      "\n",
      "    accuracy                           1.00      3059\n",
      "   macro avg       1.00      0.99      0.99      3059\n",
      "weighted avg       1.00      1.00      1.00      3059\n",
      "\n",
      "Val classification report\n",
      "              precision    recall  f1-score   support\n",
      "\n",
      "           0       0.99      1.00      0.99       609\n",
      "           1       0.98      0.96      0.97       156\n",
      "\n",
      "    accuracy                           0.99       765\n",
      "   macro avg       0.98      0.98      0.98       765\n",
      "weighted avg       0.99      0.99      0.99       765\n",
      "\n"
     ]
    }
   ],
   "source": [
    "utils.pipeline_run(input_path,aug_column_val,target, feature, num_labels,learning_rate,epochs,batch_size,loss,metric,model_name,path)"
   ]
  },
  {
   "cell_type": "markdown",
   "id": "350babad-0ca4-412c-8e78-1328056aee80",
   "metadata": {},
   "source": [
    "### Inferencing using Bert Model with augm_text_default_mn_gpt_neo"
   ]
  },
  {
   "cell_type": "code",
   "execution_count": 27,
   "id": "92b0c15d-ab35-4b2a-a970-0f847ef72724",
   "metadata": {},
   "outputs": [],
   "source": [
    "savedModel=load_model(path)"
   ]
  },
  {
   "cell_type": "code",
   "execution_count": 28,
   "id": "79256285-525c-4704-8e6b-79214efa0006",
   "metadata": {},
   "outputs": [],
   "source": [
    "X_train_tokens_new, Y_train_one_hot_encoded, X_test_tokens_new, Y_test_one_hot_encoded = utils.data_prep_inference_pipeline(file_for_pred_input_path,feature,target,model_name)\n"
   ]
  },
  {
   "cell_type": "code",
   "execution_count": 29,
   "id": "58a09283-76c5-499c-84a3-11322b5254aa",
   "metadata": {},
   "outputs": [
    {
     "name": "stdout",
     "output_type": "stream",
     "text": [
      "              precision    recall  f1-score   support\n",
      "\n",
      "           0       1.00      1.00      1.00      3044\n",
      "           1       0.99      0.97      0.98       419\n",
      "\n",
      "    accuracy                           0.99      3463\n",
      "   macro avg       0.99      0.98      0.99      3463\n",
      "weighted avg       0.99      0.99      0.99      3463\n",
      "\n",
      "Balanced Accuracy:  0.9823080107508334\n",
      "F2 score:  [0.9975046  0.97029229]\n"
     ]
    }
   ],
   "source": [
    "report=utils.class_report(X_tokens=X_train_tokens_new,savedModel=savedModel, y=Y_train_one_hot_encoded)\n",
    "print(report)"
   ]
  },
  {
   "cell_type": "code",
   "execution_count": 30,
   "id": "40cf2588-a9ac-41a1-ae27-3a2331232e99",
   "metadata": {},
   "outputs": [],
   "source": [
    "with open(final_classification_report_output, 'a') as f:\n",
    "    f.write(\"\\n------ Classification report of Training Data using augm_text_default_mn_gpt_neo ------\\n\")\n",
    "    f.write(report)"
   ]
  },
  {
   "cell_type": "code",
   "execution_count": 31,
   "id": "0ba6e4c6-51da-4546-93d3-cf9717a843a4",
   "metadata": {},
   "outputs": [
    {
     "name": "stdout",
     "output_type": "stream",
     "text": [
      "              precision    recall  f1-score   support\n",
      "\n",
      "           0       0.99      1.00      0.99      1472\n",
      "           1       0.97      0.95      0.96       234\n",
      "\n",
      "    accuracy                           0.99      1706\n",
      "   macro avg       0.98      0.97      0.98      1706\n",
      "weighted avg       0.99      0.99      0.99      1706\n",
      "\n",
      "Balanced Accuracy:  0.9723209308807135\n",
      "F2 score:  [0.99511268 0.95360825]\n"
     ]
    }
   ],
   "source": [
    "report=utils.class_report(X_tokens=X_test_tokens_new,savedModel=savedModel, y=Y_test_one_hot_encoded)\n",
    "print(report)"
   ]
  },
  {
   "cell_type": "code",
   "execution_count": 32,
   "id": "d09c6daf-459e-4cec-8626-4ae535341fe4",
   "metadata": {},
   "outputs": [],
   "source": [
    "with open(final_classification_report_output, 'a') as f:\n",
    "    f.write(\"\\n------ Classification report of Test Data using augm_text_default_mn_gpt_neo ------\\n\")\n",
    "    f.write(report)"
   ]
  },
  {
   "cell_type": "markdown",
   "id": "728e01eb-1922-4caf-b15c-46be1bb26e84",
   "metadata": {},
   "source": [
    "### Training Bert Model with augm_text_bn_gpt_neo_arg"
   ]
  },
  {
   "cell_type": "code",
   "execution_count": 17,
   "id": "28f06668-bdf4-4a3a-88b8-465aaa589066",
   "metadata": {},
   "outputs": [],
   "source": [
    "# aug_column_val=\"augm_text_bn_gpt_neo_arg\"\n",
    "# path='/home/jupyter/NLP_Track/Deepak/Git/Files/nlp_task_bert_model_aug_text_bn_gpt_neo_arg'"
   ]
  },
  {
   "cell_type": "code",
   "execution_count": 18,
   "id": "3776411c-30d3-4ff1-86c7-b49deb669cec",
   "metadata": {},
   "outputs": [],
   "source": [
    "# utils.pipeline_run(input_path,aug_column_val,target, feature, num_labels,learning_rate,epochs,batch_size,loss,metric,model_name,path)"
   ]
  },
  {
   "cell_type": "markdown",
   "id": "c20b3f1b-c7fd-4559-9a0a-70785dd6573f",
   "metadata": {},
   "source": [
    "### Inferencing using Bert Model with augm_text_bn_gpt_neo_arg"
   ]
  },
  {
   "cell_type": "code",
   "execution_count": 19,
   "id": "9edfd744-d8a6-47f5-9fcc-7c5b7838bc5d",
   "metadata": {},
   "outputs": [],
   "source": [
    "# savedModel=load_model(path)"
   ]
  },
  {
   "cell_type": "code",
   "execution_count": 20,
   "id": "55bc8e4b-ea5c-4c30-bc3a-9f1499dff130",
   "metadata": {},
   "outputs": [],
   "source": [
    "# X_train_tokens_new, Y_train_one_hot_encoded, X_test_tokens_new, Y_test_one_hot_encoded = utils.data_prep_inference_pipeline(file_for_pred_input_path,feature,target,model_name)\n"
   ]
  },
  {
   "cell_type": "code",
   "execution_count": 21,
   "id": "fda32187-ed25-4783-86e1-6ea9e0a8bc3b",
   "metadata": {},
   "outputs": [],
   "source": [
    "# report=utils.class_report(X_tokens=X_train_tokens_new,savedModel=savedModel, y=Y_train_one_hot_encoded)\n",
    "# print(report)"
   ]
  },
  {
   "cell_type": "code",
   "execution_count": 33,
   "id": "1f7ef9d1-43e1-41a6-bf17-d5a95851de84",
   "metadata": {},
   "outputs": [],
   "source": [
    "# with open(final_classification_report_output, 'a') as f:\n",
    "#     f.write(\"\\n------ Classification report of Training Data using augm_text_bn_gpt_neo_arg ------\\n\")\n",
    "#     f.write(report)"
   ]
  },
  {
   "cell_type": "code",
   "execution_count": 34,
   "id": "fb8a25b9-6b27-4de5-b560-8b3c150882fb",
   "metadata": {},
   "outputs": [],
   "source": [
    "# report=utils.class_report(X_tokens=X_test_tokens_new,savedModel=savedModel, y=Y_test_one_hot_encoded)\n",
    "# print(report)"
   ]
  },
  {
   "cell_type": "code",
   "execution_count": 35,
   "id": "83236b49-9700-462c-ac16-21437ae7ac58",
   "metadata": {},
   "outputs": [],
   "source": [
    "# with open(final_classification_report_output, 'a') as f:\n",
    "#     f.write(\"\\n------ Classification report of Test Data using augm_text_bn_gpt_neo_arg ------\\n\")\n",
    "#     f.write(report)"
   ]
  },
  {
   "cell_type": "markdown",
   "id": "52f5cedd-8f91-475f-b5ed-a225a19dbc26",
   "metadata": {},
   "source": [
    "### Training Bert Model with augm_text_cstm_mn_gpt_neo"
   ]
  },
  {
   "cell_type": "code",
   "execution_count": 36,
   "id": "459d225f-fd8d-4310-a547-9dee2295bd45",
   "metadata": {},
   "outputs": [],
   "source": [
    "# aug_column_val=\"augm_text_cstm_mn_gpt_neo\"\n",
    "# path='/home/jupyter/NLP_Track/Deepak/Git/Files/nlp_task_bert_model_aug_text_cstm_mn_gpt_neo'"
   ]
  },
  {
   "cell_type": "code",
   "execution_count": 37,
   "id": "b40acb90-0a34-476b-9f4b-621f95bba339",
   "metadata": {},
   "outputs": [],
   "source": [
    "# utils.pipeline_run(input_path,aug_column_val,target, feature, num_labels,learning_rate,epochs,batch_size,loss,metric,model_name,path)"
   ]
  },
  {
   "cell_type": "markdown",
   "id": "0679f357-b677-405b-8f44-fd6e4c6d2c3b",
   "metadata": {},
   "source": [
    "### Inferencing using Bert Model with augm_text_cstm_mn_gpt_neo"
   ]
  },
  {
   "cell_type": "code",
   "execution_count": 38,
   "id": "38875b97-01ab-4b16-a4f3-5fb3b7690725",
   "metadata": {},
   "outputs": [],
   "source": [
    "# savedModel=load_model(path)"
   ]
  },
  {
   "cell_type": "code",
   "execution_count": 39,
   "id": "1c431853-3379-44ef-b724-549850750760",
   "metadata": {},
   "outputs": [],
   "source": [
    "# X_train_tokens_new, Y_train_one_hot_encoded, X_test_tokens_new, Y_test_one_hot_encoded = utils.data_prep_inference_pipeline(file_for_pred_input_path,feature,target,model_name)\n"
   ]
  },
  {
   "cell_type": "code",
   "execution_count": 40,
   "id": "b31cf3df-03d4-4c56-b44f-ede22fe7d66a",
   "metadata": {},
   "outputs": [],
   "source": [
    "# report=utils.class_report(X_tokens=X_train_tokens_new,savedModel=savedModel, y=Y_train_one_hot_encoded)\n",
    "# print(report)"
   ]
  },
  {
   "cell_type": "code",
   "execution_count": 41,
   "id": "4ccf2688-b9be-4776-b445-56249a4e8a98",
   "metadata": {},
   "outputs": [],
   "source": [
    "# with open(final_classification_report_output, 'a') as f:\n",
    "#     f.write(\"\\n------ Classification report of Training Data using augm_text_cstm_mn_gpt_neo ------\\n\")\n",
    "#     f.write(report)"
   ]
  },
  {
   "cell_type": "code",
   "execution_count": 42,
   "id": "06203ead-0cce-4b96-ae23-65c8e01efef0",
   "metadata": {},
   "outputs": [],
   "source": [
    "# report=utils.class_report(X_tokens=X_test_tokens_new,savedModel=savedModel, y=Y_test_one_hot_encoded)\n",
    "# print(report)"
   ]
  },
  {
   "cell_type": "code",
   "execution_count": 43,
   "id": "c727c539-97f1-46ec-bc48-0f4e5dbab72f",
   "metadata": {},
   "outputs": [],
   "source": [
    "# with open(final_classification_report_output, 'a') as f:\n",
    "#     f.write(\"\\n------ Classification report of Test Data using augm_text_cstm_mn_gpt_neo ------\\n\")\n",
    "#     f.write(report)"
   ]
  },
  {
   "cell_type": "code",
   "execution_count": null,
   "id": "8dc597a9-af93-4029-9bc5-2c27c7702246",
   "metadata": {},
   "outputs": [],
   "source": []
  }
 ],
 "metadata": {
  "kernelspec": {
   "display_name": "GGR",
   "language": "python",
   "name": "38368"
  },
  "language_info": {
   "codemirror_mode": {
    "name": "ipython",
    "version": 3
   },
   "file_extension": ".py",
   "mimetype": "text/x-python",
   "name": "python",
   "nbconvert_exporter": "python",
   "pygments_lexer": "ipython3",
   "version": "3.7.0"
  },
  "toc": {
   "base_numbering": 1,
   "nav_menu": {},
   "number_sections": true,
   "sideBar": true,
   "skip_h1_title": false,
   "title_cell": "Table of Contents",
   "title_sidebar": "Contents",
   "toc_cell": false,
   "toc_position": {},
   "toc_section_display": true,
   "toc_window_display": false
  }
 },
 "nbformat": 4,
 "nbformat_minor": 5
}
